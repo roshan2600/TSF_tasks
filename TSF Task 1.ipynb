{
 "cells": [
  {
   "cell_type": "markdown",
   "id": "da892696",
   "metadata": {},
   "source": [
    "# Name: Roshan Sharma\n",
    "- Data Science and Business Analytics Intern at The Sparks Foundation.\n",
    "- Graduate Rotational Internship Program (Batch - November 2021).\n",
    "\n",
    "---\n",
    "\n",
    "**Problem Statement:**\n",
    "Predict the percentage of a student based on the number of study hours.\n",
    "\n",
    "---\n",
    "\n",
    "**Information about data set:**\n",
    "\n",
    "- The data was provided by a link: *http://bit.ly/w-data*\n",
    "- It consisted of observations on 25 student about the numbers of hours each studied and their respective test scores."
   ]
  },
  {
   "cell_type": "markdown",
   "id": "94ebcaa7",
   "metadata": {},
   "source": [
    "## Importing Libraries"
   ]
  },
  {
   "cell_type": "code",
   "execution_count": 1,
   "id": "9dedbdc5",
   "metadata": {},
   "outputs": [],
   "source": [
    "import numpy as np\n",
    "import pandas as pd\n",
    "import matplotlib.pyplot as plt\n",
    "import seaborn as sns\n",
    "from sklearn import linear_model\n",
    "from sklearn.model_selection import train_test_split\n",
    "from sklearn.linear_model import LinearRegression\n",
    "from scipy.stats import shapiro, bartlett\n",
    "from sklearn import metrics\n",
    "from statsmodels.stats.stattools import durbin_watson\n",
    "%matplotlib inline\n",
    "\n",
    "import warnings\n",
    "warnings.filterwarnings(\"ignore\")"
   ]
  },
  {
   "cell_type": "markdown",
   "id": "32f45d18",
   "metadata": {},
   "source": [
    "## Importing Dataset & Checking for null values\n",
    "The Data was provided by as remote link."
   ]
  },
  {
   "cell_type": "code",
   "execution_count": 2,
   "id": "c6ab4d9c",
   "metadata": {},
   "outputs": [
    {
     "data": {
      "text/html": [
       "<div>\n",
       "<style scoped>\n",
       "    .dataframe tbody tr th:only-of-type {\n",
       "        vertical-align: middle;\n",
       "    }\n",
       "\n",
       "    .dataframe tbody tr th {\n",
       "        vertical-align: top;\n",
       "    }\n",
       "\n",
       "    .dataframe thead th {\n",
       "        text-align: right;\n",
       "    }\n",
       "</style>\n",
       "<table border=\"1\" class=\"dataframe\">\n",
       "  <thead>\n",
       "    <tr style=\"text-align: right;\">\n",
       "      <th></th>\n",
       "      <th>Hours</th>\n",
       "      <th>Scores</th>\n",
       "    </tr>\n",
       "  </thead>\n",
       "  <tbody>\n",
       "    <tr>\n",
       "      <th>0</th>\n",
       "      <td>2.5</td>\n",
       "      <td>21</td>\n",
       "    </tr>\n",
       "    <tr>\n",
       "      <th>1</th>\n",
       "      <td>5.1</td>\n",
       "      <td>47</td>\n",
       "    </tr>\n",
       "    <tr>\n",
       "      <th>2</th>\n",
       "      <td>3.2</td>\n",
       "      <td>27</td>\n",
       "    </tr>\n",
       "    <tr>\n",
       "      <th>3</th>\n",
       "      <td>8.5</td>\n",
       "      <td>75</td>\n",
       "    </tr>\n",
       "    <tr>\n",
       "      <th>4</th>\n",
       "      <td>3.5</td>\n",
       "      <td>30</td>\n",
       "    </tr>\n",
       "  </tbody>\n",
       "</table>\n",
       "</div>"
      ],
      "text/plain": [
       "   Hours  Scores\n",
       "0    2.5      21\n",
       "1    5.1      47\n",
       "2    3.2      27\n",
       "3    8.5      75\n",
       "4    3.5      30"
      ]
     },
     "execution_count": 2,
     "metadata": {},
     "output_type": "execute_result"
    }
   ],
   "source": [
    "link = \"http://bit.ly/w-data\"\n",
    "df = pd.read_csv(link)\n",
    "\n",
    "df.head()"
   ]
  },
  {
   "cell_type": "code",
   "execution_count": 3,
   "id": "f7e912a1",
   "metadata": {},
   "outputs": [
    {
     "data": {
      "text/plain": [
       "Hours     0\n",
       "Scores    0\n",
       "dtype: int64"
      ]
     },
     "execution_count": 3,
     "metadata": {},
     "output_type": "execute_result"
    }
   ],
   "source": [
    "df.isnull().sum()"
   ]
  },
  {
   "cell_type": "markdown",
   "id": "48e84c81",
   "metadata": {},
   "source": [
    "*Since the data provided disn't had any null values, we continue with our analysis.*"
   ]
  },
  {
   "cell_type": "markdown",
   "id": "fc0ac5e6",
   "metadata": {},
   "source": [
    "## Checking Normality using Shapiro-Wilk Test"
   ]
  },
  {
   "cell_type": "code",
   "execution_count": 4,
   "id": "27a8a1e0",
   "metadata": {},
   "outputs": [
    {
     "data": {
      "text/plain": [
       "ShapiroResult(statistic=0.9401376247406006, pvalue=0.1491180658340454)"
      ]
     },
     "execution_count": 4,
     "metadata": {},
     "output_type": "execute_result"
    }
   ],
   "source": [
    "shapiro(df['Hours'])"
   ]
  },
  {
   "cell_type": "markdown",
   "id": "06f0a70d",
   "metadata": {},
   "source": [
    "*Since p-value > 0.05, we can assume that our data is normally distributed*"
   ]
  },
  {
   "cell_type": "markdown",
   "id": "8e48cc64",
   "metadata": {},
   "source": [
    "## Checking Correlation between both variables"
   ]
  },
  {
   "cell_type": "code",
   "execution_count": 5,
   "id": "6ae1a61f",
   "metadata": {},
   "outputs": [
    {
     "data": {
      "image/png": "[encoded data removed]",
      "text/plain": [
       "<Figure size 432x288 with 1 Axes>"
      ]
     },
     "metadata": {
      "needs_background": "light"
     },
     "output_type": "display_data"
    }
   ],
   "source": [
    "plt.scatter(df.Hours, df.Scores)\n",
    "plt.title(\"Hours vs Scores\")\n",
    "plt.xlabel(\"No. of Hours studied\")\n",
    "plt.ylabel(\"Scores Obtained\")\n",
    "plt.show()"
   ]
  },
  {
   "cell_type": "markdown",
   "id": "7b06b121",
   "metadata": {},
   "source": [
    "*We can observe that there is a positive linear correlation between Hours and Scores. Hence, we move ahead.*"
   ]
  },
  {
   "cell_type": "markdown",
   "id": "9bc1b888",
   "metadata": {},
   "source": [
    "## Preparing the Data"
   ]
  },
  {
   "cell_type": "code",
   "execution_count": 6,
   "id": "3e94b95e",
   "metadata": {},
   "outputs": [],
   "source": [
    "x = df.iloc[ : , :-1].values\n",
    "y = df.iloc[ : , 1].values"
   ]
  },
  {
   "cell_type": "code",
   "execution_count": 7,
   "id": "1f4b1280",
   "metadata": {},
   "outputs": [],
   "source": [
    "x_train, x_test, y_train, y_test = train_test_split(x, y, test_size = 0.2, random_state = 42)"
   ]
  },
  {
   "cell_type": "markdown",
   "id": "3f119262",
   "metadata": {},
   "source": [
    "## Training the algorithm"
   ]
  },
  {
   "cell_type": "code",
   "execution_count": 8,
   "id": "d22e29fb",
   "metadata": {},
   "outputs": [
    {
     "data": {
      "text/plain": [
       "0.9491209376364416"
      ]
     },
     "execution_count": 8,
     "metadata": {},
     "output_type": "execute_result"
    }
   ],
   "source": [
    "reg = LinearRegression()\n",
    "reg.fit(x_train, y_train)\n",
    "reg.score(x_train, y_train)"
   ]
  },
  {
   "cell_type": "markdown",
   "id": "1ee021aa",
   "metadata": {},
   "source": [
    "### Checking Assumptions"
   ]
  },
  {
   "cell_type": "code",
   "execution_count": 9,
   "id": "9958d9ae",
   "metadata": {
    "scrolled": true
   },
   "outputs": [
    {
     "data": {
      "image/png": "[encoded data removed]",
      "text/plain": [
       "<Figure size 432x288 with 1 Axes>"
      ]
     },
     "metadata": {
      "needs_background": "light"
     },
     "output_type": "display_data"
    },
    {
     "data": {
      "text/plain": [
       "0.9491209376364416"
      ]
     },
     "execution_count": 9,
     "metadata": {},
     "output_type": "execute_result"
    }
   ],
   "source": [
    "#Linearity\n",
    "\n",
    "plt.scatter(x_train, y_train)\n",
    "plt.plot(x_train, reg.predict(x_train))\n",
    "plt.title('Hours v/s Score: Training Data')\n",
    "plt.xlabel('Hours Studied')\n",
    "plt.ylabel('Score Obtained')\n",
    "plt.show()\n",
    "\n",
    "reg.score(x_train, y_train)"
   ]
  },
  {
   "cell_type": "code",
   "execution_count": 10,
   "id": "1a9aa44d",
   "metadata": {},
   "outputs": [
    {
     "name": "stdout",
     "output_type": "stream",
     "text": [
      "Mean of Residuals = 8.08242361927114e-15\n"
     ]
    }
   ],
   "source": [
    "#Mean Of Residuals\n",
    "\n",
    "y_pred_train = reg.predict(x_train)\n",
    "residuals = y_train - y_pred_train\n",
    "mean_residuals = np.mean(residuals)\n",
    "print(\"Mean of Residuals = {}\".format(mean_residuals))"
   ]
  },
  {
   "cell_type": "code",
   "execution_count": 11,
   "id": "4339c73f",
   "metadata": {},
   "outputs": [
    {
     "name": "stdout",
     "output_type": "stream",
     "text": [
      "P-value: 0.2610059457856708\n"
     ]
    }
   ],
   "source": [
    "# Durbin Watson Test for Homoscedasticity\n",
    "# H0 = There in homoscedasticity v/s H1 = There is no homoscedasticity\n",
    "\n",
    "dbtest = durbin_watson(y_train)\n",
    "print(\"P-value:\", dbtest)"
   ]
  },
  {
   "cell_type": "code",
   "execution_count": 12,
   "id": "b4dde883",
   "metadata": {},
   "outputs": [
    {
     "data": {
      "text/plain": [
       "[('F statistic', 0.6325320293538477), ('p-value', 0.747118645404899)]"
      ]
     },
     "execution_count": 12,
     "metadata": {},
     "output_type": "execute_result"
    }
   ],
   "source": [
    "#Goldfeld Quandt Test for homoscedasticity\n",
    "\n",
    "import statsmodels.stats.api as sms\n",
    "from statsmodels.compat import lzip\n",
    "name = ['F statistic', 'p-value']\n",
    "test = sms.het_goldfeldquandt(residuals, x_train)\n",
    "lzip(name, test)"
   ]
  },
  {
   "cell_type": "code",
   "execution_count": 13,
   "id": "30d6a9fd",
   "metadata": {},
   "outputs": [
    {
     "data": {
      "text/plain": [
       "Text(0.5, 1.0, 'Residuals vs fitted values plot for autocorrelation check')"
      ]
     },
     "execution_count": 13,
     "metadata": {},
     "output_type": "execute_result"
    },
    {
     "data": {
      "image/png": "[encoded data removed]",
      "text/plain": [
       "<Figure size 1296x432 with 1 Axes>"
      ]
     },
     "metadata": {
      "needs_background": "light"
     },
     "output_type": "display_data"
    }
   ],
   "source": [
    "#Check for autocorrelation\n",
    "\n",
    "plt.figure(figsize=(18,6))\n",
    "sns.lineplot(y_pred_train, residuals, marker='o', linestyle = \"--\", color='k')\n",
    "plt.xlabel('y_pred/predicted values')\n",
    "plt.ylabel('Residuals')\n",
    "plt.title('Residuals vs fitted values plot for autocorrelation check')"
   ]
  },
  {
   "cell_type": "markdown",
   "id": "783abead",
   "metadata": {},
   "source": [
    "## Predicting for test data"
   ]
  },
  {
   "cell_type": "code",
   "execution_count": 14,
   "id": "403d4cfd",
   "metadata": {},
   "outputs": [
    {
     "name": "stdout",
     "output_type": "stream",
     "text": [
      "[83.18814104 27.03208774 27.03208774 69.63323162 59.95115347]\n"
     ]
    }
   ],
   "source": [
    "y_pred = reg.predict(x_test)\n",
    "print(y_pred)"
   ]
  },
  {
   "cell_type": "code",
   "execution_count": 15,
   "id": "60577b2b",
   "metadata": {},
   "outputs": [
    {
     "data": {
      "text/html": [
       "<div>\n",
       "<style scoped>\n",
       "    .dataframe tbody tr th:only-of-type {\n",
       "        vertical-align: middle;\n",
       "    }\n",
       "\n",
       "    .dataframe tbody tr th {\n",
       "        vertical-align: top;\n",
       "    }\n",
       "\n",
       "    .dataframe thead th {\n",
       "        text-align: right;\n",
       "    }\n",
       "</style>\n",
       "<table border=\"1\" class=\"dataframe\">\n",
       "  <thead>\n",
       "    <tr style=\"text-align: right;\">\n",
       "      <th></th>\n",
       "      <th>Actual values</th>\n",
       "      <th>Predicted values</th>\n",
       "    </tr>\n",
       "  </thead>\n",
       "  <tbody>\n",
       "    <tr>\n",
       "      <th>0</th>\n",
       "      <td>81</td>\n",
       "      <td>83.188141</td>\n",
       "    </tr>\n",
       "    <tr>\n",
       "      <th>1</th>\n",
       "      <td>30</td>\n",
       "      <td>27.032088</td>\n",
       "    </tr>\n",
       "    <tr>\n",
       "      <th>2</th>\n",
       "      <td>21</td>\n",
       "      <td>27.032088</td>\n",
       "    </tr>\n",
       "    <tr>\n",
       "      <th>3</th>\n",
       "      <td>76</td>\n",
       "      <td>69.633232</td>\n",
       "    </tr>\n",
       "    <tr>\n",
       "      <th>4</th>\n",
       "      <td>62</td>\n",
       "      <td>59.951153</td>\n",
       "    </tr>\n",
       "  </tbody>\n",
       "</table>\n",
       "</div>"
      ],
      "text/plain": [
       "   Actual values  Predicted values\n",
       "0             81         83.188141\n",
       "1             30         27.032088\n",
       "2             21         27.032088\n",
       "3             76         69.633232\n",
       "4             62         59.951153"
      ]
     },
     "execution_count": 15,
     "metadata": {},
     "output_type": "execute_result"
    }
   ],
   "source": [
    "comp = pd.DataFrame({'Actual values': y_test, 'Predicted values': y_pred})\n",
    "comp"
   ]
  },
  {
   "cell_type": "code",
   "execution_count": 16,
   "id": "8e48b425",
   "metadata": {},
   "outputs": [
    {
     "data": {
      "text/plain": [
       "0.9678055545167994"
      ]
     },
     "execution_count": 16,
     "metadata": {},
     "output_type": "execute_result"
    }
   ],
   "source": [
    "reg.score(x_test, y_test)"
   ]
  },
  {
   "cell_type": "markdown",
   "id": "78afe85d",
   "metadata": {},
   "source": [
    "## Predicting for self given values"
   ]
  },
  {
   "cell_type": "code",
   "execution_count": 17,
   "id": "34bc24d4",
   "metadata": {},
   "outputs": [
    {
     "name": "stdout",
     "output_type": "stream",
     "text": [
      "Enter study hours:9.25\n",
      "Predicted Score = 92.38611528261494\n"
     ]
    }
   ],
   "source": [
    "hours = float(input(\"Enter study hours:\"))\n",
    "hours = [[hours]]\n",
    "self_pred = reg.predict(hours)\n",
    "print(\"Predicted Score = {}\".format(self_pred[0]))"
   ]
  },
  {
   "cell_type": "markdown",
   "id": "fc97d6a1",
   "metadata": {},
   "source": [
    "## Model Evaluation\n",
    "\n",
    "**For evaluating our model we are going to use Root Mean Squared Error (RMSE) & Mean Absolute Percentage Error (MAPE)**"
   ]
  },
  {
   "cell_type": "code",
   "execution_count": 18,
   "id": "70ef7c84",
   "metadata": {},
   "outputs": [
    {
     "name": "stdout",
     "output_type": "stream",
     "text": [
      "Root Mean Squared Error:  4.352380006653288\n"
     ]
    }
   ],
   "source": [
    "print(\"Root Mean Squared Error: \", np.sqrt(metrics.mean_squared_error(y_test, y_pred)))"
   ]
  },
  {
   "cell_type": "code",
   "execution_count": 19,
   "id": "68d15538",
   "metadata": {},
   "outputs": [
    {
     "name": "stdout",
     "output_type": "stream",
     "text": [
      "Mean Absolute Percentage Error:  0.10600118977553538\n"
     ]
    }
   ],
   "source": [
    "print(\"Mean Absolute Percentage Error: \", metrics.mean_absolute_percentage_error(y_test, y_pred))"
   ]
  }
 ],
 "metadata": {
  "kernelspec": {
   "display_name": "Python 3",
   "language": "python",
   "name": "python3"
  },
  "language_info": {
   "codemirror_mode": {
    "name": "ipython",
    "version": 3
   },
   "file_extension": ".py",
   "mimetype": "text/x-python",
   "name": "python",
   "nbconvert_exporter": "python",
   "pygments_lexer": "ipython3",
   "version": "3.8.8"
  }
 },
 "nbformat": 4,
 "nbformat_minor": 5
}
